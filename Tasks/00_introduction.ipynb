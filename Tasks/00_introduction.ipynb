{
 "cells": [
  {
   "cell_type": "markdown",
   "metadata": {},
   "source": [
    "# Participant\n",
    "\n",
    "Title = \"Dr.\"\n",
    "\n",
    "Name = \"Junaid Latif\"\n",
    "\n",
    "email = \"hafizjunaidlatif@gmail.com\"\n",
    "\n",
    "whatsapp = \"+923153411950\""
   ]
  }
 ],
 "metadata": {
  "language_info": {
   "name": "python"
  },
  "orig_nbformat": 4
 },
 "nbformat": 4,
 "nbformat_minor": 2
}
