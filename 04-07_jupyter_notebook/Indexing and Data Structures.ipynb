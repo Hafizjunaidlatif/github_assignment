{
 "cells": [
  {
   "cell_type": "markdown",
   "id": "eeadca40",
   "metadata": {},
   "source": [
    "# - Indexing"
   ]
  },
  {
   "cell_type": "code",
   "execution_count": 1,
   "id": "604b28de",
   "metadata": {},
   "outputs": [],
   "source": [
    "# make and string\n",
    "a= \"samosa pakora\""
   ]
  },
  {
   "cell_type": "code",
   "execution_count": 2,
   "id": "05717fe6",
   "metadata": {},
   "outputs": [
    {
     "data": {
      "text/plain": [
       "'samosa pakora'"
      ]
     },
     "execution_count": 2,
     "metadata": {},
     "output_type": "execute_result"
    }
   ],
   "source": [
    "a"
   ]
  },
  {
   "cell_type": "code",
   "execution_count": 3,
   "id": "9fc70b0d",
   "metadata": {},
   "outputs": [
    {
     "data": {
      "text/plain": [
       "'s'"
      ]
     },
     "execution_count": 3,
     "metadata": {},
     "output_type": "execute_result"
    }
   ],
   "source": [
    "a[0]"
   ]
  },
  {
   "cell_type": "code",
   "execution_count": 4,
   "id": "ea189d07",
   "metadata": {},
   "outputs": [
    {
     "data": {
      "text/plain": [
       "'o'"
      ]
     },
     "execution_count": 4,
     "metadata": {},
     "output_type": "execute_result"
    }
   ],
   "source": [
    "a[3]"
   ]
  },
  {
   "cell_type": "code",
   "execution_count": 5,
   "id": "38d62420",
   "metadata": {
    "scrolled": true
   },
   "outputs": [],
   "source": [
    "# a[13] # 13 is index error"
   ]
  },
  {
   "cell_type": "code",
   "execution_count": 6,
   "id": "fb42b936",
   "metadata": {},
   "outputs": [
    {
     "data": {
      "text/plain": [
       "13"
      ]
     },
     "execution_count": 6,
     "metadata": {},
     "output_type": "execute_result"
    }
   ],
   "source": [
    "# length of indecies\n",
    "len(a)"
   ]
  },
  {
   "cell_type": "code",
   "execution_count": 7,
   "id": "1cfbb875",
   "metadata": {},
   "outputs": [
    {
     "data": {
      "text/plain": [
       "'samos'"
      ]
     },
     "execution_count": 7,
     "metadata": {},
     "output_type": "execute_result"
    }
   ],
   "source": [
    "a[0:5]"
   ]
  },
  {
   "cell_type": "code",
   "execution_count": 8,
   "id": "6630ddd5",
   "metadata": {},
   "outputs": [
    {
     "data": {
      "text/plain": [
       "'samosa'"
      ]
     },
     "execution_count": 8,
     "metadata": {},
     "output_type": "execute_result"
    }
   ],
   "source": [
    "a[0:6]"
   ]
  },
  {
   "cell_type": "code",
   "execution_count": 9,
   "id": "8b7173a8",
   "metadata": {},
   "outputs": [
    {
     "data": {
      "text/plain": [
       "'samosa pakora'"
      ]
     },
     "execution_count": 9,
     "metadata": {},
     "output_type": "execute_result"
    }
   ],
   "source": [
    "# stare with zero \"0\" but excludes last \"13\"\n",
    "a[0:13]"
   ]
  },
  {
   "cell_type": "code",
   "execution_count": 10,
   "id": "53c21642",
   "metadata": {},
   "outputs": [
    {
     "data": {
      "text/plain": [
       "'a'"
      ]
     },
     "execution_count": 10,
     "metadata": {},
     "output_type": "execute_result"
    }
   ],
   "source": [
    "a[-1]"
   ]
  },
  {
   "cell_type": "code",
   "execution_count": 11,
   "id": "ac98208d",
   "metadata": {},
   "outputs": [
    {
     "data": {
      "text/plain": [
       "'s'"
      ]
     },
     "execution_count": 11,
     "metadata": {},
     "output_type": "execute_result"
    }
   ],
   "source": [
    "a[-13]"
   ]
  },
  {
   "cell_type": "code",
   "execution_count": 12,
   "id": "8a8b9e67",
   "metadata": {
    "scrolled": true
   },
   "outputs": [
    {
     "data": {
      "text/plain": [
       "'pakor'"
      ]
     },
     "execution_count": 12,
     "metadata": {},
     "output_type": "execute_result"
    }
   ],
   "source": [
    "a[-6:-1]"
   ]
  },
  {
   "cell_type": "code",
   "execution_count": 13,
   "id": "4066cf19",
   "metadata": {},
   "outputs": [
    {
     "data": {
      "text/plain": [
       "''"
      ]
     },
     "execution_count": 13,
     "metadata": {},
     "output_type": "execute_result"
    }
   ],
   "source": [
    "a[-1:-7]"
   ]
  },
  {
   "cell_type": "code",
   "execution_count": 14,
   "id": "a4b7c488",
   "metadata": {},
   "outputs": [
    {
     "data": {
      "text/plain": [
       "'biryani'"
      ]
     },
     "execution_count": 14,
     "metadata": {},
     "output_type": "execute_result"
    }
   ],
   "source": [
    "food = \"biryani\"\n",
    "food"
   ]
  },
  {
   "cell_type": "code",
   "execution_count": 15,
   "id": "80105e91",
   "metadata": {},
   "outputs": [
    {
     "data": {
      "text/plain": [
       "'pakora'"
      ]
     },
     "execution_count": 15,
     "metadata": {},
     "output_type": "execute_result"
    }
   ],
   "source": [
    "foods=\"pakora\"\n",
    "foods"
   ]
  },
  {
   "cell_type": "code",
   "execution_count": 16,
   "id": "9232482d",
   "metadata": {},
   "outputs": [
    {
     "data": {
      "text/plain": [
       "'mango'"
      ]
     },
     "execution_count": 16,
     "metadata": {},
     "output_type": "execute_result"
    }
   ],
   "source": [
    "foo=\"mango\"\n",
    "foo"
   ]
  },
  {
   "cell_type": "code",
   "execution_count": 17,
   "id": "93ab4079",
   "metadata": {},
   "outputs": [
    {
     "data": {
      "text/plain": [
       "6"
      ]
     },
     "execution_count": 17,
     "metadata": {},
     "output_type": "execute_result"
    }
   ],
   "source": [
    "len(foods)"
   ]
  },
  {
   "cell_type": "code",
   "execution_count": 18,
   "id": "c6d6d941",
   "metadata": {},
   "outputs": [
    {
     "data": {
      "text/plain": [
       "'Biryani'"
      ]
     },
     "execution_count": 18,
     "metadata": {},
     "output_type": "execute_result"
    }
   ],
   "source": [
    "# we need to tap \"TAB\" after dot\".\" for more options and in last paranthesis \"()\"\n",
    "## capitalize first letter\n",
    "\n",
    "food.capitalize()\n",
    "\n"
   ]
  },
  {
   "cell_type": "code",
   "execution_count": 19,
   "id": "01a804a7",
   "metadata": {},
   "outputs": [
    {
     "data": {
      "text/plain": [
       "'BIRYANI'"
      ]
     },
     "execution_count": 19,
     "metadata": {},
     "output_type": "execute_result"
    }
   ],
   "source": [
    "# uppercase\n",
    "food.upper()"
   ]
  },
  {
   "cell_type": "code",
   "execution_count": 20,
   "id": "95a74a15",
   "metadata": {},
   "outputs": [
    {
     "data": {
      "text/plain": [
       "'shiryani'"
      ]
     },
     "execution_count": 20,
     "metadata": {},
     "output_type": "execute_result"
    }
   ],
   "source": [
    "# replace\n",
    "food.replace(\"b\", \"sh\")"
   ]
  },
  {
   "cell_type": "code",
   "execution_count": 21,
   "id": "baa283f4",
   "metadata": {},
   "outputs": [
    {
     "data": {
      "text/plain": [
       "'baba_G is Dr. Aammar Tufail'"
      ]
     },
     "execution_count": 21,
     "metadata": {},
     "output_type": "execute_result"
    }
   ],
   "source": [
    "# counting a speicific alphabet in string ( mostly used in bioinformatics)\n",
    "name = \"baba_G is Dr. Aammar Tufail\"\n",
    "name"
   ]
  },
  {
   "cell_type": "code",
   "execution_count": 22,
   "id": "a9d926e3",
   "metadata": {},
   "outputs": [
    {
     "data": {
      "text/plain": [
       "5"
      ]
     },
     "execution_count": 22,
     "metadata": {},
     "output_type": "execute_result"
    }
   ],
   "source": [
    "name.count(\"a\")"
   ]
  },
  {
   "cell_type": "code",
   "execution_count": 23,
   "id": "9b179973",
   "metadata": {},
   "outputs": [
    {
     "data": {
      "text/plain": [
       "1"
      ]
     },
     "execution_count": 23,
     "metadata": {},
     "output_type": "execute_result"
    }
   ],
   "source": [
    "name.count(\"A\")"
   ]
  },
  {
   "cell_type": "markdown",
   "id": "cb7d3848",
   "metadata": {},
   "source": [
    "### - Finding an index number in a string"
   ]
  },
  {
   "cell_type": "code",
   "execution_count": 24,
   "id": "ec2eb555",
   "metadata": {},
   "outputs": [
    {
     "data": {
      "text/plain": [
       "'baba_G is Dr. Aammar Tufail'"
      ]
     },
     "execution_count": 24,
     "metadata": {},
     "output_type": "execute_result"
    }
   ],
   "source": [
    "name = \"baba_G is Dr. Aammar Tufail\"\n",
    "name"
   ]
  },
  {
   "cell_type": "code",
   "execution_count": 25,
   "id": "2d2d43f9",
   "metadata": {},
   "outputs": [
    {
     "data": {
      "text/plain": [
       "21"
      ]
     },
     "execution_count": 25,
     "metadata": {},
     "output_type": "execute_result"
    }
   ],
   "source": [
    "name.find(\"T\")"
   ]
  },
  {
   "cell_type": "code",
   "execution_count": 26,
   "id": "30c6c928",
   "metadata": {},
   "outputs": [
    {
     "data": {
      "text/plain": [
       "0"
      ]
     },
     "execution_count": 26,
     "metadata": {},
     "output_type": "execute_result"
    }
   ],
   "source": [
    "name.find(\"b\")"
   ]
  },
  {
   "cell_type": "code",
   "execution_count": 27,
   "id": "2077d25b",
   "metadata": {},
   "outputs": [
    {
     "data": {
      "text/plain": [
       "14"
      ]
     },
     "execution_count": 27,
     "metadata": {},
     "output_type": "execute_result"
    }
   ],
   "source": [
    "name.find(\"Aa\")"
   ]
  },
  {
   "cell_type": "code",
   "execution_count": 28,
   "id": "3e3c558b",
   "metadata": {},
   "outputs": [
    {
     "data": {
      "text/plain": [
       "' i love fruits, chocolates, biscuits, mutton'"
      ]
     },
     "execution_count": 28,
     "metadata": {},
     "output_type": "execute_result"
    }
   ],
   "source": [
    "### How to Split a String\n",
    "food = \" i love fruits, chocolates, biscuits, mutton\"\n",
    "food"
   ]
  },
  {
   "cell_type": "code",
   "execution_count": 29,
   "id": "497f739a",
   "metadata": {},
   "outputs": [
    {
     "data": {
      "text/plain": [
       "[' i love fruits', ' chocolates', ' biscuits', ' mutton']"
      ]
     },
     "execution_count": 29,
     "metadata": {},
     "output_type": "execute_result"
    }
   ],
   "source": [
    "food.split(\",\") #at the basis of \",\""
   ]
  },
  {
   "cell_type": "markdown",
   "id": "cfb07189",
   "metadata": {},
   "source": [
    "--- # the --- mean a straight line\n"
   ]
  },
  {
   "cell_type": "markdown",
   "id": "245ab36c",
   "metadata": {},
   "source": [
    "---"
   ]
  },
  {
   "cell_type": "markdown",
   "id": "e54d1980",
   "metadata": {},
   "source": [
    "## Basic data structure in python\n",
    "### 1 - Tuple\n",
    "\n",
    "### 2 - List\n",
    "\n",
    "### 3 - Dictionaries\n",
    "\n",
    "### 4 - Set"
   ]
  },
  {
   "cell_type": "markdown",
   "id": "214161a9",
   "metadata": {},
   "source": [
    "## 1- Tuple (RULEs)\n",
    "- ordered collection of elements\n",
    "- enclosed in () round braces / paranthesis\n",
    "- different kind of elements can be stored\n",
    "- once elements are stored you can not change them (unmutateable)\n"
   ]
  },
  {
   "cell_type": "code",
   "execution_count": 30,
   "id": "e6acf9c3",
   "metadata": {},
   "outputs": [
    {
     "data": {
      "text/plain": [
       "(2, 'python', 'true', 3.5)"
      ]
     },
     "execution_count": 30,
     "metadata": {},
     "output_type": "execute_result"
    }
   ],
   "source": [
    "tup1= (2, \"python\", \"true\", 3.5)\n",
    "tup1"
   ]
  },
  {
   "cell_type": "code",
   "execution_count": 31,
   "id": "131e9a03",
   "metadata": {},
   "outputs": [
    {
     "data": {
      "text/plain": [
       "tuple"
      ]
     },
     "execution_count": 31,
     "metadata": {},
     "output_type": "execute_result"
    }
   ],
   "source": [
    "# type of tuple \n",
    "type(tup1)"
   ]
  },
  {
   "cell_type": "code",
   "execution_count": 32,
   "id": "ae4adf79",
   "metadata": {},
   "outputs": [],
   "source": [
    "### - indexing in tuple"
   ]
  },
  {
   "cell_type": "code",
   "execution_count": 33,
   "id": "826fb971",
   "metadata": {},
   "outputs": [
    {
     "data": {
      "text/plain": [
       "('python', 'true')"
      ]
     },
     "execution_count": 33,
     "metadata": {},
     "output_type": "execute_result"
    }
   ],
   "source": [
    "tup1[1], tup1[2]"
   ]
  },
  {
   "cell_type": "code",
   "execution_count": 34,
   "id": "4080d701",
   "metadata": {},
   "outputs": [
    {
     "data": {
      "text/plain": [
       "2"
      ]
     },
     "execution_count": 34,
     "metadata": {},
     "output_type": "execute_result"
    }
   ],
   "source": [
    "tup1[0]"
   ]
  },
  {
   "cell_type": "code",
   "execution_count": 35,
   "id": "456bfc51",
   "metadata": {},
   "outputs": [
    {
     "data": {
      "text/plain": [
       "(2, 'python', 'true', 3.5)"
      ]
     },
     "execution_count": 35,
     "metadata": {},
     "output_type": "execute_result"
    }
   ],
   "source": [
    "# last element is exclusive\n",
    "tup1[0:5]"
   ]
  },
  {
   "cell_type": "code",
   "execution_count": 36,
   "id": "6bf957fe",
   "metadata": {},
   "outputs": [
    {
     "data": {
      "text/plain": [
       "4"
      ]
     },
     "execution_count": 36,
     "metadata": {},
     "output_type": "execute_result"
    }
   ],
   "source": [
    "# counting of elements in tuple\n",
    "len(tup1)"
   ]
  },
  {
   "cell_type": "code",
   "execution_count": 37,
   "id": "2cae0ad8",
   "metadata": {},
   "outputs": [
    {
     "data": {
      "text/plain": [
       "(5, 'Junaid', 2.5, False)"
      ]
     },
     "execution_count": 37,
     "metadata": {},
     "output_type": "execute_result"
    }
   ],
   "source": [
    "tup2= (5, \"Junaid\", 2.5, False)\n",
    "tup2"
   ]
  },
  {
   "cell_type": "code",
   "execution_count": 38,
   "id": "41b6d853",
   "metadata": {},
   "outputs": [
    {
     "data": {
      "text/plain": [
       "(2, 'python', 'true', 3.5, 5, 'Junaid', 2.5, False)"
      ]
     },
     "execution_count": 38,
     "metadata": {},
     "output_type": "execute_result"
    }
   ],
   "source": [
    "# concatinatie (to add 2 or <2 tuple)\n",
    "tup1+tup2"
   ]
  },
  {
   "cell_type": "code",
   "execution_count": 39,
   "id": "ac8323a0",
   "metadata": {},
   "outputs": [
    {
     "data": {
      "text/plain": [
       "(2, 'python', 'true', 3.5, 2, 'python', 'true', 3.5, 5, 'Junaid', 2.5, False)"
      ]
     },
     "execution_count": 39,
     "metadata": {},
     "output_type": "execute_result"
    }
   ],
   "source": [
    "# concatinate + repeat\n",
    "tup1*2 + tup2"
   ]
  },
  {
   "cell_type": "code",
   "execution_count": 40,
   "id": "abaa1467",
   "metadata": {},
   "outputs": [],
   "source": [
    "# same way we can addition, substract, multiplication etc"
   ]
  },
  {
   "cell_type": "code",
   "execution_count": 41,
   "id": "f9867498",
   "metadata": {
    "scrolled": true
   },
   "outputs": [
    {
     "data": {
      "text/plain": [
       "(20, 30, 60, 50, 80)"
      ]
     },
     "execution_count": 41,
     "metadata": {},
     "output_type": "execute_result"
    }
   ],
   "source": [
    "tup3= (20, 30, 60, 50, 80)\n",
    "tup3"
   ]
  },
  {
   "cell_type": "code",
   "execution_count": 42,
   "id": "716085cb",
   "metadata": {},
   "outputs": [
    {
     "data": {
      "text/plain": [
       "20"
      ]
     },
     "execution_count": 42,
     "metadata": {},
     "output_type": "execute_result"
    }
   ],
   "source": [
    "# minimum\n",
    "min(tup3)"
   ]
  },
  {
   "cell_type": "code",
   "execution_count": 43,
   "id": "a021acd3",
   "metadata": {},
   "outputs": [
    {
     "data": {
      "text/plain": [
       "80"
      ]
     },
     "execution_count": 43,
     "metadata": {},
     "output_type": "execute_result"
    }
   ],
   "source": [
    "# maximum\n",
    "max(tup3)"
   ]
  },
  {
   "cell_type": "code",
   "execution_count": 44,
   "id": "809fe514",
   "metadata": {},
   "outputs": [
    {
     "data": {
      "text/plain": [
       "(20, 30, 60, 50, 80, 20, 30, 60, 50, 80)"
      ]
     },
     "execution_count": 44,
     "metadata": {},
     "output_type": "execute_result"
    }
   ],
   "source": [
    "tup3*2\n",
    "# repetition, \n",
    "## but why it doesnot have multiplication this? assignment "
   ]
  },
  {
   "cell_type": "code",
   "execution_count": 45,
   "id": "73859e59",
   "metadata": {},
   "outputs": [],
   "source": [
    "# tup3 after . how many function must check it is assignment "
   ]
  },
  {
   "cell_type": "markdown",
   "id": "3041dd12",
   "metadata": {},
   "source": [
    "---"
   ]
  },
  {
   "cell_type": "markdown",
   "id": "cb4bf068",
   "metadata": {},
   "source": [
    "# mark down language , it is very interesting"
   ]
  },
  {
   "cell_type": "markdown",
   "id": "1bb187a4",
   "metadata": {},
   "source": [
    "## List\n",
    "- ordered collection of elements\n",
    "- enclosed in [] square brackets/braces\n",
    "- mutateable , we can change value"
   ]
  },
  {
   "cell_type": "code",
   "execution_count": 46,
   "id": "8c776af1",
   "metadata": {},
   "outputs": [
    {
     "data": {
      "text/plain": [
       "[1, 'obaid', False]"
      ]
     },
     "execution_count": 46,
     "metadata": {},
     "output_type": "execute_result"
    }
   ],
   "source": [
    "list1 = [1, \"obaid\", False]\n",
    "list1"
   ]
  },
  {
   "cell_type": "code",
   "execution_count": 47,
   "id": "464deedf",
   "metadata": {},
   "outputs": [
    {
     "data": {
      "text/plain": [
       "list"
      ]
     },
     "execution_count": 47,
     "metadata": {},
     "output_type": "execute_result"
    }
   ],
   "source": [
    "type(list1)"
   ]
  },
  {
   "cell_type": "code",
   "execution_count": 48,
   "id": "7fb525c8",
   "metadata": {},
   "outputs": [
    {
     "data": {
      "text/plain": [
       "3"
      ]
     },
     "execution_count": 48,
     "metadata": {},
     "output_type": "execute_result"
    }
   ],
   "source": [
    "len(list1)"
   ]
  },
  {
   "cell_type": "code",
   "execution_count": 49,
   "id": "70723a54",
   "metadata": {},
   "outputs": [
    {
     "data": {
      "text/plain": [
       "[3, 5, 'junaid', 'obaid', 450, 30.5, True]"
      ]
     },
     "execution_count": 49,
     "metadata": {},
     "output_type": "execute_result"
    }
   ],
   "source": [
    "list2 = [3, 5, \"junaid\", \"obaid\", 450, 30.5, True]\n",
    "list2"
   ]
  },
  {
   "cell_type": "code",
   "execution_count": 50,
   "id": "656e0311",
   "metadata": {
    "scrolled": true
   },
   "outputs": [
    {
     "data": {
      "text/plain": [
       "[1, 'obaid', False, 3, 5, 'junaid', 'obaid', 450, 30.5, True]"
      ]
     },
     "execution_count": 50,
     "metadata": {},
     "output_type": "execute_result"
    }
   ],
   "source": [
    "list1 + list2"
   ]
  },
  {
   "cell_type": "code",
   "execution_count": 51,
   "id": "87370d52",
   "metadata": {},
   "outputs": [
    {
     "data": {
      "text/plain": [
       "[1, 'obaid', False, 'codanic youtube']"
      ]
     },
     "execution_count": 51,
     "metadata": {},
     "output_type": "execute_result"
    }
   ],
   "source": [
    "list1.append(\"codanic youtube\")\n",
    "list1\n",
    "# use all option to check, what work we should do with in list ? assignment"
   ]
  },
  {
   "cell_type": "code",
   "execution_count": 53,
   "id": "4d2d85f3",
   "metadata": {},
   "outputs": [],
   "source": [
    "# list1.count()\n",
    "# list1"
   ]
  },
  {
   "cell_type": "code",
   "execution_count": 54,
   "id": "587852fd",
   "metadata": {},
   "outputs": [
    {
     "data": {
      "text/plain": [
       "[20, 30, 60, 5, 15, 555, 12.3, 34.5, 67.8]"
      ]
     },
     "execution_count": 54,
     "metadata": {},
     "output_type": "execute_result"
    }
   ],
   "source": [
    "list3=[20,30,60,5,15,555, 12.3, 34.5, 67.8]\n",
    "list3"
   ]
  },
  {
   "cell_type": "code",
   "execution_count": 55,
   "id": "e91f1c62",
   "metadata": {},
   "outputs": [
    {
     "data": {
      "text/plain": [
       "9"
      ]
     },
     "execution_count": 55,
     "metadata": {},
     "output_type": "execute_result"
    }
   ],
   "source": [
    "len(list3)"
   ]
  },
  {
   "cell_type": "code",
   "execution_count": 56,
   "id": "b1fef1ee",
   "metadata": {},
   "outputs": [
    {
     "data": {
      "text/plain": [
       "[20, 30, 60, 5, 15, 555, 12.3, 34.5, 67.8]"
      ]
     },
     "execution_count": 56,
     "metadata": {},
     "output_type": "execute_result"
    }
   ],
   "source": [
    "# sorting\n",
    "list3.sort\n",
    "list3"
   ]
  },
  {
   "cell_type": "code",
   "execution_count": 57,
   "id": "7334422c",
   "metadata": {},
   "outputs": [
    {
     "data": {
      "text/plain": [
       "[20,\n",
       " 30,\n",
       " 60,\n",
       " 5,\n",
       " 15,\n",
       " 555,\n",
       " 12.3,\n",
       " 34.5,\n",
       " 67.8,\n",
       " 20,\n",
       " 30,\n",
       " 60,\n",
       " 5,\n",
       " 15,\n",
       " 555,\n",
       " 12.3,\n",
       " 34.5,\n",
       " 67.8]"
      ]
     },
     "execution_count": 57,
     "metadata": {},
     "output_type": "execute_result"
    }
   ],
   "source": [
    "# repeatinig\n",
    "list3*2"
   ]
  },
  {
   "cell_type": "code",
   "execution_count": 58,
   "id": "9c2517ee",
   "metadata": {},
   "outputs": [
    {
     "data": {
      "text/plain": [
       "[1,\n",
       " 'obaid',\n",
       " False,\n",
       " 'codanic youtube',\n",
       " 3,\n",
       " 5,\n",
       " 'junaid',\n",
       " 'obaid',\n",
       " 450,\n",
       " 30.5,\n",
       " True]"
      ]
     },
     "execution_count": 58,
     "metadata": {},
     "output_type": "execute_result"
    }
   ],
   "source": [
    "# concaticate\n",
    "list1+list2"
   ]
  },
  {
   "cell_type": "code",
   "execution_count": 59,
   "id": "82625d63",
   "metadata": {},
   "outputs": [
    {
     "data": {
      "text/plain": [
       "[1,\n",
       " 'obaid',\n",
       " False,\n",
       " 'codanic youtube',\n",
       " 3,\n",
       " 5,\n",
       " 'junaid',\n",
       " 'obaid',\n",
       " 450,\n",
       " 30.5,\n",
       " True,\n",
       " 20,\n",
       " 30,\n",
       " 60,\n",
       " 5,\n",
       " 15,\n",
       " 555,\n",
       " 12.3,\n",
       " 34.5,\n",
       " 67.8]"
      ]
     },
     "execution_count": 59,
     "metadata": {},
     "output_type": "execute_result"
    }
   ],
   "source": [
    "# combine lists with previous list\n",
    "lists= list1+list2+list3\n",
    "lists"
   ]
  },
  {
   "cell_type": "markdown",
   "id": "0e235ed6",
   "metadata": {},
   "source": [
    "### Dictonaries\n",
    "- collection of elements of unordered/ unordered collection of elements\n",
    "- key and value\n",
    "- curly braces or brackets {}\n",
    "- mutateable/changeable\n"
   ]
  },
  {
   "cell_type": "code",
   "execution_count": 60,
   "id": "f34429b7",
   "metadata": {},
   "outputs": [
    {
     "data": {
      "text/plain": [
       "{'samosa': 30, 'pakora': 100, 'Raita': 20, 'salad': 50, 'Chiken role': 30}"
      ]
     },
     "execution_count": 60,
     "metadata": {},
     "output_type": "execute_result"
    }
   ],
   "source": [
    "# food and their prices\n",
    "food1= {\"samosa\":30, \"pakora\":100, \"Raita\":20, \"salad\":50, \"Chiken role\": 30} \n",
    "# *\"samosa\" is key and \"30\" is value.\n",
    "food1"
   ]
  },
  {
   "cell_type": "code",
   "execution_count": 61,
   "id": "40daf886",
   "metadata": {},
   "outputs": [
    {
     "data": {
      "text/plain": [
       "dict"
      ]
     },
     "execution_count": 61,
     "metadata": {},
     "output_type": "execute_result"
    }
   ],
   "source": [
    "type(food1)"
   ]
  },
  {
   "cell_type": "code",
   "execution_count": 62,
   "id": "dc054bd4",
   "metadata": {},
   "outputs": [
    {
     "data": {
      "text/plain": [
       "dict_keys(['samosa', 'pakora', 'Raita', 'salad', 'Chiken role'])"
      ]
     },
     "execution_count": 62,
     "metadata": {},
     "output_type": "execute_result"
    }
   ],
   "source": [
    "# extract data\n",
    "keys1= food1.keys()\n",
    "keys1"
   ]
  },
  {
   "cell_type": "code",
   "execution_count": 63,
   "id": "8f6a3437",
   "metadata": {},
   "outputs": [
    {
     "data": {
      "text/plain": [
       "dict_values([30, 100, 20, 50, 30])"
      ]
     },
     "execution_count": 63,
     "metadata": {},
     "output_type": "execute_result"
    }
   ],
   "source": [
    "values1= food1.values()\n",
    "values1"
   ]
  },
  {
   "cell_type": "code",
   "execution_count": 64,
   "id": "6f42305f",
   "metadata": {},
   "outputs": [
    {
     "data": {
      "text/plain": [
       "{'samosa': 30,\n",
       " 'pakora': 100,\n",
       " 'Raita': 20,\n",
       " 'salad': 50,\n",
       " 'Chiken role': 30,\n",
       " 'Tikki': 10}"
      ]
     },
     "execution_count": 64,
     "metadata": {},
     "output_type": "execute_result"
    }
   ],
   "source": [
    "# adding new element\n",
    "food1[\"Tikki\"]= 10\n",
    "food1"
   ]
  },
  {
   "cell_type": "code",
   "execution_count": 65,
   "id": "4c56d2f2",
   "metadata": {},
   "outputs": [
    {
     "data": {
      "text/plain": [
       "{'samosa': 30,\n",
       " 'pakora': 100,\n",
       " 'Raita': 20,\n",
       " 'salad': 50,\n",
       " 'Chiken role': 30,\n",
       " 'Tikki': 15}"
      ]
     },
     "execution_count": 65,
     "metadata": {},
     "output_type": "execute_result"
    }
   ],
   "source": [
    "#  update the value\n",
    "food1[\"Tikki\"]=15\n",
    "food1"
   ]
  },
  {
   "cell_type": "code",
   "execution_count": 66,
   "id": "69bc59c7",
   "metadata": {},
   "outputs": [
    {
     "data": {
      "text/plain": [
       "{'Dates': 50, 'Chocolates': 200, 'Sawiyan': 1000}"
      ]
     },
     "execution_count": 66,
     "metadata": {},
     "output_type": "execute_result"
    }
   ],
   "source": [
    "food2 = {\"Dates\":50, \"Chocolates\":200, \"Sawiyan\":1000}\n",
    "food2"
   ]
  },
  {
   "cell_type": "code",
   "execution_count": 67,
   "id": "17eb4726",
   "metadata": {},
   "outputs": [
    {
     "data": {
      "text/plain": [
       "{'samosa': 30,\n",
       " 'pakora': 100,\n",
       " 'Raita': 20,\n",
       " 'salad': 50,\n",
       " 'Chiken role': 30,\n",
       " 'Tikki': 15,\n",
       " 'Dates': 50,\n",
       " 'Chocolates': 200,\n",
       " 'Sawiyan': 1000}"
      ]
     },
     "execution_count": 67,
     "metadata": {},
     "output_type": "execute_result"
    }
   ],
   "source": [
    "# contatinate\n",
    "food1.update(food2)\n",
    "food1"
   ]
  },
  {
   "cell_type": "markdown",
   "id": "b5bae809",
   "metadata": {},
   "source": [
    "## 4- Sets\n",
    "- Unordered and unindexed\n",
    "- curly braces {}\n",
    "- no duplicate allowed"
   ]
  },
  {
   "cell_type": "code",
   "execution_count": 79,
   "id": "d8edcb5f",
   "metadata": {},
   "outputs": [
    {
     "data": {
      "text/plain": [
       "{1, 2.2, 5.2, 'Junaid', 'codanics', 'obaid'}"
      ]
     },
     "execution_count": 79,
     "metadata": {},
     "output_type": "execute_result"
    }
   ],
   "source": [
    "s1= {1, 2.2, 5.2, \"Junaid\", \"obaid\", \"codanics\"}\n",
    "s1"
   ]
  },
  {
   "cell_type": "code",
   "execution_count": 80,
   "id": "b2f65988",
   "metadata": {},
   "outputs": [
    {
     "data": {
      "text/plain": [
       "{1, 2.2, 5.2, 'Junaid', 'codanics', 'obaid', 'youtube'}"
      ]
     },
     "execution_count": 80,
     "metadata": {},
     "output_type": "execute_result"
    }
   ],
   "source": [
    "s1.add(\"youtube\")\n",
    "s1\n",
    "#*note: boolian operators cant be added in this i.e False, True; can add strings, integer, float number, duplicate cannt be added"
   ]
  },
  {
   "cell_type": "code",
   "execution_count": 81,
   "id": "beb67b92",
   "metadata": {},
   "outputs": [
    {
     "data": {
      "text/plain": [
       "{1, 2.2, 5.2, 'Junaid', 'codanics', 'youtube'}"
      ]
     },
     "execution_count": 81,
     "metadata": {},
     "output_type": "execute_result"
    }
   ],
   "source": [
    "s1.remove(\"obaid\")\n",
    "s1"
   ]
  },
  {
   "cell_type": "markdown",
   "id": "f163405b",
   "metadata": {},
   "source": [
    "# tuple, ,list , dictionaries and sets after \".\" all functions must have to try it is assignment"
   ]
  }
 ],
 "metadata": {
  "kernelspec": {
   "display_name": "Python 3 (ipykernel)",
   "language": "python",
   "name": "python3"
  },
  "language_info": {
   "codemirror_mode": {
    "name": "ipython",
    "version": 3
   },
   "file_extension": ".py",
   "mimetype": "text/x-python",
   "name": "python",
   "nbconvert_exporter": "python",
   "pygments_lexer": "ipython3",
   "version": "3.9.7"
  }
 },
 "nbformat": 4,
 "nbformat_minor": 5
}
