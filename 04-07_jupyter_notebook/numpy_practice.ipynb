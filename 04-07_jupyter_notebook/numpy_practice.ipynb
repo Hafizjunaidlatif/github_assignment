{
 "cells": [
  {
   "cell_type": "markdown",
   "id": "bec44723",
   "metadata": {},
   "source": [
    "## numpy practice session"
   ]
  },
  {
   "cell_type": "code",
   "execution_count": 1,
   "id": "bf628e7e",
   "metadata": {},
   "outputs": [],
   "source": [
    "# import this lib in j.notebook\n",
    "import numpy as np"
   ]
  },
  {
   "cell_type": "markdown",
   "id": "025401d6",
   "metadata": {},
   "source": [
    "## creating an array using numpy"
   ]
  },
  {
   "cell_type": "code",
   "execution_count": 2,
   "id": "8c9094df",
   "metadata": {},
   "outputs": [
    {
     "data": {
      "text/plain": [
       "array(['pakora', 'samosa', 'raita'], dtype='<U6')"
      ]
     },
     "execution_count": 2,
     "metadata": {},
     "output_type": "execute_result"
    }
   ],
   "source": [
    "np.array([\"pakora\", \"samosa\", \"raita\"])"
   ]
  },
  {
   "cell_type": "code",
   "execution_count": 3,
   "id": "3858491b",
   "metadata": {},
   "outputs": [
    {
     "data": {
      "text/plain": [
       "array(['pakora', 'samosa', 'raita'], dtype='<U6')"
      ]
     },
     "execution_count": 3,
     "metadata": {},
     "output_type": "execute_result"
    }
   ],
   "source": [
    "food = np.array([\"pakora\", \"samosa\", \"raita\"])\n",
    "food\n"
   ]
  },
  {
   "cell_type": "code",
   "execution_count": 4,
   "id": "778f4995",
   "metadata": {},
   "outputs": [
    {
     "data": {
      "text/plain": [
       "array([5, 5, 5])"
      ]
     },
     "execution_count": 4,
     "metadata": {},
     "output_type": "execute_result"
    }
   ],
   "source": [
    "price= np.array([5,5,5])\n",
    "price\n",
    "#1-D array"
   ]
  },
  {
   "cell_type": "code",
   "execution_count": 5,
   "id": "7c8faca8",
   "metadata": {},
   "outputs": [
    {
     "data": {
      "text/plain": [
       "numpy.ndarray"
      ]
     },
     "execution_count": 5,
     "metadata": {},
     "output_type": "execute_result"
    }
   ],
   "source": [
    "type(price) #ndarray n mean n dimensional array "
   ]
  },
  {
   "cell_type": "code",
   "execution_count": 6,
   "id": "f2240017",
   "metadata": {},
   "outputs": [
    {
     "data": {
      "text/plain": [
       "numpy.ndarray"
      ]
     },
     "execution_count": 6,
     "metadata": {},
     "output_type": "execute_result"
    }
   ],
   "source": [
    "type(food)"
   ]
  },
  {
   "cell_type": "code",
   "execution_count": 7,
   "id": "93bba9b9",
   "metadata": {},
   "outputs": [
    {
     "data": {
      "text/plain": [
       "3"
      ]
     },
     "execution_count": 7,
     "metadata": {},
     "output_type": "execute_result"
    }
   ],
   "source": [
    "len(food)"
   ]
  },
  {
   "cell_type": "code",
   "execution_count": 8,
   "id": "56beb427",
   "metadata": {},
   "outputs": [
    {
     "data": {
      "text/plain": [
       "3"
      ]
     },
     "execution_count": 8,
     "metadata": {},
     "output_type": "execute_result"
    }
   ],
   "source": [
    "len(price)"
   ]
  },
  {
   "cell_type": "code",
   "execution_count": 9,
   "id": "e6a69f54",
   "metadata": {},
   "outputs": [
    {
     "data": {
      "text/plain": [
       "5"
      ]
     },
     "execution_count": 9,
     "metadata": {},
     "output_type": "execute_result"
    }
   ],
   "source": [
    "price[2]"
   ]
  },
  {
   "cell_type": "code",
   "execution_count": 10,
   "id": "2963f4bc",
   "metadata": {},
   "outputs": [
    {
     "data": {
      "text/plain": [
       "array([5, 5, 5])"
      ]
     },
     "execution_count": 10,
     "metadata": {},
     "output_type": "execute_result"
    }
   ],
   "source": [
    "price[0:] #[0:] its mean zero to end all values"
   ]
  },
  {
   "cell_type": "code",
   "execution_count": 11,
   "id": "5087a0a2",
   "metadata": {},
   "outputs": [
    {
     "data": {
      "text/plain": [
       "'samosa'"
      ]
     },
     "execution_count": 11,
     "metadata": {},
     "output_type": "execute_result"
    }
   ],
   "source": [
    "# food[\"Samosa\"] then error\n",
    "food[1]"
   ]
  },
  {
   "cell_type": "code",
   "execution_count": 12,
   "id": "f93769a5",
   "metadata": {},
   "outputs": [
    {
     "data": {
      "text/plain": [
       "5.0"
      ]
     },
     "execution_count": 12,
     "metadata": {},
     "output_type": "execute_result"
    }
   ],
   "source": [
    "price.mean()"
   ]
  },
  {
   "cell_type": "code",
   "execution_count": 13,
   "id": "adc978c3",
   "metadata": {},
   "outputs": [
    {
     "data": {
      "text/plain": [
       "array([0., 0., 0., 0., 0., 0.])"
      ]
     },
     "execution_count": 13,
     "metadata": {},
     "output_type": "execute_result"
    }
   ],
   "source": [
    "# range method ZEROS\n",
    "np.zeros(6)"
   ]
  },
  {
   "cell_type": "code",
   "execution_count": 14,
   "id": "5f30da70",
   "metadata": {},
   "outputs": [
    {
     "data": {
      "text/plain": [
       "array([1., 1., 1., 1., 1.])"
      ]
     },
     "execution_count": 14,
     "metadata": {},
     "output_type": "execute_result"
    }
   ],
   "source": [
    "# ones\n",
    "np.ones(5)"
   ]
  },
  {
   "cell_type": "code",
   "execution_count": 15,
   "id": "f7637b7a",
   "metadata": {},
   "outputs": [
    {
     "data": {
      "text/plain": [
       "array([1., 1., 1., 1., 1.])"
      ]
     },
     "execution_count": 15,
     "metadata": {},
     "output_type": "execute_result"
    }
   ],
   "source": [
    "# empty\n",
    "np.empty(5) \n",
    "# assignment why here is 1's why not 0's"
   ]
  },
  {
   "cell_type": "code",
   "execution_count": 16,
   "id": "f9ac2a6c",
   "metadata": {},
   "outputs": [
    {
     "data": {
      "text/plain": [
       "array([0, 1, 2, 3, 4, 5, 6, 7, 8, 9])"
      ]
     },
     "execution_count": 16,
     "metadata": {},
     "output_type": "execute_result"
    }
   ],
   "source": [
    "# range\n",
    "np.arange(10)"
   ]
  },
  {
   "cell_type": "code",
   "execution_count": 17,
   "id": "7cf13876",
   "metadata": {},
   "outputs": [
    {
     "data": {
      "text/plain": [
       "array([ 2,  3,  4,  5,  6,  7,  8,  9, 10, 11, 12, 13, 14, 15, 16, 17, 18,\n",
       "       19])"
      ]
     },
     "execution_count": 17,
     "metadata": {},
     "output_type": "execute_result"
    }
   ],
   "source": [
    "#specify range\n",
    "np.arange(2,20)"
   ]
  },
  {
   "cell_type": "code",
   "execution_count": 18,
   "id": "1ce18bc3",
   "metadata": {},
   "outputs": [
    {
     "data": {
      "text/plain": [
       "array([ 2,  4,  6,  8, 10, 12, 14, 16, 18])"
      ]
     },
     "execution_count": 18,
     "metadata": {},
     "output_type": "execute_result"
    }
   ],
   "source": [
    "#specific range with interval\n",
    "np.arange(2,20, 2)"
   ]
  },
  {
   "cell_type": "code",
   "execution_count": 19,
   "id": "9824298a",
   "metadata": {},
   "outputs": [
    {
     "data": {
      "text/plain": [
       "array([ 0,  5, 10, 15, 20, 25, 30, 35, 40, 45, 50])"
      ]
     },
     "execution_count": 19,
     "metadata": {},
     "output_type": "execute_result"
    }
   ],
   "source": [
    "# table of five , 5 ka pahara\n",
    "np.arange(0,55,5)"
   ]
  },
  {
   "cell_type": "code",
   "execution_count": 20,
   "id": "50bf521b",
   "metadata": {},
   "outputs": [
    {
     "data": {
      "text/plain": [
       "array([  0.        ,  11.11111111,  22.22222222,  33.33333333,\n",
       "        44.44444444,  55.55555556,  66.66666667,  77.77777778,\n",
       "        88.88888889, 100.        ])"
      ]
     },
     "execution_count": 20,
     "metadata": {},
     "output_type": "execute_result"
    }
   ],
   "source": [
    "# line space, yani specific interval p 5 number ajy\n",
    "np.linspace(0, 100, num=10)"
   ]
  },
  {
   "cell_type": "code",
   "execution_count": 21,
   "id": "d31d2907",
   "metadata": {},
   "outputs": [
    {
     "data": {
      "text/plain": [
       "array([ 1.  ,  3.25,  5.5 ,  7.75, 10.  ])"
      ]
     },
     "execution_count": 21,
     "metadata": {},
     "output_type": "execute_result"
    }
   ],
   "source": [
    "np.linspace(1, 10, num=5)"
   ]
  },
  {
   "cell_type": "code",
   "execution_count": 22,
   "id": "10e73d7b",
   "metadata": {},
   "outputs": [
    {
     "data": {
      "text/plain": [
       "array([1, 1, 1, 1, 1, 1, 1, 1, 1, 1, 1, 1, 1, 1, 1, 1, 1, 1, 1, 1, 1, 1,\n",
       "       1, 1, 1, 1, 1, 1, 1, 1, 1, 1, 1, 1, 1, 1, 1, 1, 1, 1, 1, 1, 1, 1,\n",
       "       1, 1, 1, 1, 1, 1], dtype=int64)"
      ]
     },
     "execution_count": 22,
     "metadata": {},
     "output_type": "execute_result"
    }
   ],
   "source": [
    "#specify your data type\n",
    "np.ones(50, dtype=np.int64)"
   ]
  },
  {
   "cell_type": "code",
   "execution_count": 23,
   "id": "628418ef",
   "metadata": {},
   "outputs": [
    {
     "data": {
      "text/plain": [
       "array([1., 1., 1., 1., 1., 1., 1., 1., 1., 1., 1., 1., 1., 1., 1., 1., 1.,\n",
       "       1., 1., 1., 1., 1., 1., 1., 1., 1., 1., 1., 1., 1., 1., 1., 1., 1.,\n",
       "       1., 1., 1., 1., 1., 1., 1., 1., 1., 1., 1., 1., 1., 1., 1., 1.])"
      ]
     },
     "execution_count": 23,
     "metadata": {},
     "output_type": "execute_result"
    }
   ],
   "source": [
    "\n",
    "np.ones(50, dtype=np.float64)"
   ]
  },
  {
   "cell_type": "markdown",
   "id": "2c878cea",
   "metadata": {},
   "source": [
    "## array functions"
   ]
  },
  {
   "cell_type": "code",
   "execution_count": 24,
   "id": "b6aa22fe",
   "metadata": {},
   "outputs": [
    {
     "data": {
      "text/plain": [
       "array([ 10. ,  20. ,  30. ,  50. ,   2. ,   5.2,  10.5,   3.2, 320. ])"
      ]
     },
     "execution_count": 24,
     "metadata": {},
     "output_type": "execute_result"
    }
   ],
   "source": [
    "a=np.array([10,20,30,50,2,5.2,10.5,3.2,320])\n",
    "a"
   ]
  },
  {
   "cell_type": "code",
   "execution_count": 25,
   "id": "46d69325",
   "metadata": {},
   "outputs": [
    {
     "data": {
      "text/plain": [
       "array([  2. ,   3.2,   5.2,  10. ,  10.5,  20. ,  30. ,  50. , 320. ])"
      ]
     },
     "execution_count": 25,
     "metadata": {},
     "output_type": "execute_result"
    }
   ],
   "source": [
    "a.sort()\n",
    "a"
   ]
  },
  {
   "cell_type": "code",
   "execution_count": 26,
   "id": "1e3d23d3",
   "metadata": {},
   "outputs": [
    {
     "data": {
      "text/plain": [
       "array([  2. ,   3.2,   5.2,  10. ,  10.5,  20. ,  30. ,  50. , 320. ])"
      ]
     },
     "execution_count": 26,
     "metadata": {},
     "output_type": "execute_result"
    }
   ],
   "source": [
    "a.cumsum()\n",
    "a"
   ]
  },
  {
   "cell_type": "code",
   "execution_count": 27,
   "id": "8c5c3331",
   "metadata": {},
   "outputs": [
    {
     "data": {
      "text/plain": [
       "array([10.2, 11.5, 22. ,  5. , 50.5])"
      ]
     },
     "execution_count": 27,
     "metadata": {},
     "output_type": "execute_result"
    }
   ],
   "source": [
    "b=np.array([10.2,11.5,22,5,50.5])\n",
    "b"
   ]
  },
  {
   "cell_type": "code",
   "execution_count": 28,
   "id": "550c2542",
   "metadata": {},
   "outputs": [
    {
     "data": {
      "text/plain": [
       "array([  2. ,   3.2,   5.2,  10. ,  10.5,  20. ,  30. ,  50. , 320. ,\n",
       "        10.2,  11.5,  22. ,   5. ,  50.5])"
      ]
     },
     "execution_count": 28,
     "metadata": {},
     "output_type": "execute_result"
    }
   ],
   "source": [
    "np.concatenate((a,b))"
   ]
  },
  {
   "cell_type": "code",
   "execution_count": 29,
   "id": "cd5af38e",
   "metadata": {},
   "outputs": [
    {
     "data": {
      "text/plain": [
       "array([  2. ,   3.2,   5.2,  10. ,  10.5,  20. ,  30. ,  50. , 320. ,\n",
       "        10.2,  11.5,  22. ,   5. ,  50.5])"
      ]
     },
     "execution_count": 29,
     "metadata": {},
     "output_type": "execute_result"
    }
   ],
   "source": [
    "c= np.concatenate((a,b))\n",
    "c"
   ]
  },
  {
   "cell_type": "code",
   "execution_count": 31,
   "id": "86753807",
   "metadata": {},
   "outputs": [
    {
     "data": {
      "text/plain": [
       "array([  2. ,   3.2,   5. ,   5.2,  10. ,  10.2,  10.5,  11.5,  20. ,\n",
       "        22. ,  30. ,  50. ,  50.5, 320. ])"
      ]
     },
     "execution_count": 31,
     "metadata": {},
     "output_type": "execute_result"
    }
   ],
   "source": [
    "np.sort(c)\n"
   ]
  },
  {
   "cell_type": "code",
   "execution_count": 34,
   "id": "adb89fb2",
   "metadata": {},
   "outputs": [
    {
     "data": {
      "text/plain": [
       "array([  2. ,   3.2,   5. ,   5.2,  10. ,  10.2,  10.5,  11.5,  20. ,\n",
       "        22. ,  30. ,  50. ,  50.5, 320. ])"
      ]
     },
     "execution_count": 34,
     "metadata": {},
     "output_type": "execute_result"
    }
   ],
   "source": [
    "c.sort()\n",
    "c"
   ]
  },
  {
   "cell_type": "markdown",
   "id": "9046e626",
   "metadata": {},
   "source": [
    "## 2-D array"
   ]
  },
  {
   "cell_type": "code",
   "execution_count": 45,
   "id": "89575954",
   "metadata": {},
   "outputs": [
    {
     "data": {
      "text/plain": [
       "array([[1, 2, 3],\n",
       "       [5, 6, 7]])"
      ]
     },
     "execution_count": 45,
     "metadata": {},
     "output_type": "execute_result"
    }
   ],
   "source": [
    "a= np.array([[1,2,3], [5,6,7]])\n",
    "a"
   ]
  },
  {
   "cell_type": "code",
   "execution_count": 46,
   "id": "ef496c30",
   "metadata": {},
   "outputs": [
    {
     "data": {
      "text/plain": [
       "array([[4, 5, 6],\n",
       "       [7, 8, 9]])"
      ]
     },
     "execution_count": 46,
     "metadata": {},
     "output_type": "execute_result"
    }
   ],
   "source": [
    "b= np.array([[4,5,6],[7,8,9]])\n",
    "b"
   ]
  },
  {
   "cell_type": "code",
   "execution_count": 47,
   "id": "5fb5dd1a",
   "metadata": {},
   "outputs": [
    {
     "data": {
      "text/plain": [
       "array([[1, 2, 3],\n",
       "       [5, 6, 7],\n",
       "       [4, 5, 6],\n",
       "       [7, 8, 9]])"
      ]
     },
     "execution_count": 47,
     "metadata": {},
     "output_type": "execute_result"
    }
   ],
   "source": [
    "np.concatenate((a,b))"
   ]
  },
  {
   "cell_type": "code",
   "execution_count": 48,
   "id": "28bf75cc",
   "metadata": {},
   "outputs": [
    {
     "data": {
      "text/plain": [
       "array([[1, 2, 3],\n",
       "       [5, 6, 7],\n",
       "       [4, 5, 6],\n",
       "       [7, 8, 9]])"
      ]
     },
     "execution_count": 48,
     "metadata": {},
     "output_type": "execute_result"
    }
   ],
   "source": [
    "np.concatenate((a,b), axis=0)"
   ]
  },
  {
   "cell_type": "code",
   "execution_count": 49,
   "id": "1caaf356",
   "metadata": {},
   "outputs": [
    {
     "data": {
      "text/plain": [
       "array([[1, 2, 3, 4, 5, 6],\n",
       "       [5, 6, 7, 7, 8, 9]])"
      ]
     },
     "execution_count": 49,
     "metadata": {},
     "output_type": "execute_result"
    }
   ],
   "source": [
    "np.concatenate((a,b), axis=1)"
   ]
  },
  {
   "cell_type": "code",
   "execution_count": 50,
   "id": "7a270c77",
   "metadata": {},
   "outputs": [
    {
     "data": {
      "text/plain": [
       "2"
      ]
     },
     "execution_count": 50,
     "metadata": {},
     "output_type": "execute_result"
    }
   ],
   "source": [
    "b.ndim #  .ndim = n dimensionS?"
   ]
  },
  {
   "cell_type": "code",
   "execution_count": 52,
   "id": "aedb886f",
   "metadata": {},
   "outputs": [
    {
     "data": {
      "text/plain": [
       "6"
      ]
     },
     "execution_count": 52,
     "metadata": {},
     "output_type": "execute_result"
    }
   ],
   "source": [
    "a.size   # calculte number of size of elements"
   ]
  },
  {
   "cell_type": "code",
   "execution_count": 53,
   "id": "b64aada1",
   "metadata": {},
   "outputs": [
    {
     "data": {
      "text/plain": [
       "(2, 3)"
      ]
     },
     "execution_count": 53,
     "metadata": {},
     "output_type": "execute_result"
    }
   ],
   "source": [
    "a.shape   # shape : i,j,k i mean matrix , rows, coloumns"
   ]
  },
  {
   "cell_type": "code",
   "execution_count": 56,
   "id": "e7ba2849",
   "metadata": {},
   "outputs": [
    {
     "data": {
      "text/plain": [
       "array([0, 1, 2, 3, 4, 5, 6, 7, 8])"
      ]
     },
     "execution_count": 56,
     "metadata": {},
     "output_type": "execute_result"
    }
   ],
   "source": [
    "a= np.arange(9) #3*3\n",
    "a"
   ]
  },
  {
   "cell_type": "code",
   "execution_count": 57,
   "id": "4b99f88a",
   "metadata": {},
   "outputs": [
    {
     "data": {
      "text/plain": [
       "array([[0, 1, 2],\n",
       "       [3, 4, 5],\n",
       "       [6, 7, 8]])"
      ]
     },
     "execution_count": 57,
     "metadata": {},
     "output_type": "execute_result"
    }
   ],
   "source": [
    "# reshape\n",
    "b=a.reshape(3,3) #3*3\n",
    "b\n"
   ]
  },
  {
   "cell_type": "code",
   "execution_count": 58,
   "id": "23651104",
   "metadata": {},
   "outputs": [
    {
     "data": {
      "text/plain": [
       "array([[0, 1, 2, 3, 4, 5, 6, 7, 8]])"
      ]
     },
     "execution_count": 58,
     "metadata": {},
     "output_type": "execute_result"
    }
   ],
   "source": [
    "# reshape\n",
    "np.reshape(a, newshape=(1,9), order=\"c\") #3*3\n",
    "\n"
   ]
  },
  {
   "cell_type": "code",
   "execution_count": 59,
   "id": "981eef42",
   "metadata": {},
   "outputs": [
    {
     "data": {
      "text/plain": [
       "array([1, 2, 3, 4, 5, 6, 7, 8, 9])"
      ]
     },
     "execution_count": 59,
     "metadata": {},
     "output_type": "execute_result"
    }
   ],
   "source": [
    "# covert 1D into 2D\n",
    "a=np.array([1,2,3,4,5,6,7,8,9])\n",
    "a"
   ]
  },
  {
   "cell_type": "code",
   "execution_count": 60,
   "id": "e453c398",
   "metadata": {},
   "outputs": [
    {
     "data": {
      "text/plain": [
       "(9,)"
      ]
     },
     "execution_count": 60,
     "metadata": {},
     "output_type": "execute_result"
    }
   ],
   "source": [
    "a.shape"
   ]
  },
  {
   "cell_type": "code",
   "execution_count": 61,
   "id": "1f54b52c",
   "metadata": {},
   "outputs": [
    {
     "data": {
      "text/plain": [
       "array([[1, 2, 3, 4, 5, 6, 7, 8, 9]])"
      ]
     },
     "execution_count": 61,
     "metadata": {},
     "output_type": "execute_result"
    }
   ],
   "source": [
    "# row wise 2D coversion\n",
    "b= a[np.newaxis, :]\n",
    "b"
   ]
  },
  {
   "cell_type": "code",
   "execution_count": 62,
   "id": "06714099",
   "metadata": {},
   "outputs": [
    {
     "data": {
      "text/plain": [
       "(1, 9)"
      ]
     },
     "execution_count": 62,
     "metadata": {},
     "output_type": "execute_result"
    }
   ],
   "source": [
    "b.shape"
   ]
  },
  {
   "cell_type": "code",
   "execution_count": 64,
   "id": "9dab6191",
   "metadata": {},
   "outputs": [
    {
     "data": {
      "text/plain": [
       "array([[1],\n",
       "       [2],\n",
       "       [3],\n",
       "       [4],\n",
       "       [5],\n",
       "       [6],\n",
       "       [7],\n",
       "       [8],\n",
       "       [9]])"
      ]
     },
     "execution_count": 64,
     "metadata": {},
     "output_type": "execute_result"
    }
   ],
   "source": [
    "# coloumn wise 2D conversion\n",
    "c= a[:, np.newaxis]\n",
    "c"
   ]
  },
  {
   "cell_type": "code",
   "execution_count": 65,
   "id": "591e2a36",
   "metadata": {},
   "outputs": [
    {
     "data": {
      "text/plain": [
       "(9, 1)"
      ]
     },
     "execution_count": 65,
     "metadata": {},
     "output_type": "execute_result"
    }
   ],
   "source": [
    "c.shape"
   ]
  },
  {
   "cell_type": "code",
   "execution_count": 66,
   "id": "d88e09f9",
   "metadata": {},
   "outputs": [
    {
     "data": {
      "text/plain": [
       "array([ 6, 12, 18, 24, 30, 36, 42, 48, 54])"
      ]
     },
     "execution_count": 66,
     "metadata": {},
     "output_type": "execute_result"
    }
   ],
   "source": [
    "# multiplication *, addition+, sum a.sum(), a.mean()  \n",
    "a*6"
   ]
  },
  {
   "cell_type": "code",
   "execution_count": 67,
   "id": "af7fd204",
   "metadata": {},
   "outputs": [
    {
     "data": {
      "text/plain": [
       "45"
      ]
     },
     "execution_count": 67,
     "metadata": {},
     "output_type": "execute_result"
    }
   ],
   "source": [
    "a.sum()"
   ]
  },
  {
   "cell_type": "code",
   "execution_count": 68,
   "id": "15ecbb62",
   "metadata": {},
   "outputs": [
    {
     "data": {
      "text/plain": [
       "5.0"
      ]
     },
     "execution_count": 68,
     "metadata": {},
     "output_type": "execute_result"
    }
   ],
   "source": [
    "a.mean()"
   ]
  },
  {
   "cell_type": "code",
   "execution_count": null,
   "id": "c5d07539",
   "metadata": {},
   "outputs": [],
   "source": []
  }
 ],
 "metadata": {
  "kernelspec": {
   "display_name": "Python 3 (ipykernel)",
   "language": "python",
   "name": "python3"
  },
  "language_info": {
   "codemirror_mode": {
    "name": "ipython",
    "version": 3
   },
   "file_extension": ".py",
   "mimetype": "text/x-python",
   "name": "python",
   "nbconvert_exporter": "python",
   "pygments_lexer": "ipython3",
   "version": "3.9.7"
  }
 },
 "nbformat": 4,
 "nbformat_minor": 5
}
