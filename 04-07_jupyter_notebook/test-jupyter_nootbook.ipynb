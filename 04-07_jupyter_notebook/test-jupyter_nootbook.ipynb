{
 "cells": [
  {
   "cell_type": "markdown",
   "id": "bd17de91",
   "metadata": {},
   "source": [
    "# Python ka chilla with aammar\n",
    "## how to use jupytor notebook\n",
    "### basics of python\n",
    "01: My first program\n",
    "    \n",
    "2: my second program"
   ]
  },
  {
   "cell_type": "code",
   "execution_count": 1,
   "id": "5bdfe49f",
   "metadata": {},
   "outputs": [
    {
     "name": "stdout",
     "output_type": "stream",
     "text": [
      "5\n",
      " hello world\n",
      "we are learning python, thanks aammar\n"
     ]
    }
   ],
   "source": [
    "# My_first_program_in_python\n",
    "print(2+3)\n",
    "print(\" hello world\")\n",
    "print(\"we are learning python, thanks aammar\")"
   ]
  },
  {
   "cell_type": "markdown",
   "id": "2c437049",
   "metadata": {},
   "source": [
    "**06_input-variables**"
   ]
  },
  {
   "cell_type": "code",
   "execution_count": 3,
   "id": "1a510fcb",
   "metadata": {},
   "outputs": [
    {
     "name": "stdout",
     "output_type": "stream",
     "text": [
      "what is your name? Junaid\n",
      "how old are you? 25\n",
      "Hello! Junaid , you are still young.\n"
     ]
    }
   ],
   "source": [
    "# input function simple\n",
    "# fruit_basket=\"mangoes\"\n",
    "# print(fruit_basket)\n",
    "\n",
    "# input function\n",
    "\n",
    "# input funtion 2nd stage\n",
    "# name= input(\"what is your naam? \")\n",
    "# greetings=\"hello!\"\n",
    "\n",
    "# print(greetings, name)\n",
    "\n",
    "# another way of stage 2 input fuction \n",
    "\n",
    "name= input(\"what is your name? \")\n",
    "age= input(\"how old are you? \")\n",
    "greetings= \"Hello!\"\n",
    "\n",
    "print(greetings, name, \", you are still young.\")\n"
   ]
  },
  {
   "cell_type": "markdown",
   "id": "6b50c523",
   "metadata": {},
   "source": [
    "**07_conditional_logics**"
   ]
  },
  {
   "cell_type": "code",
   "execution_count": 4,
   "id": "650818f9",
   "metadata": {
    "scrolled": true
   },
   "outputs": [
    {
     "name": "stdout",
     "output_type": "stream",
     "text": [
      "how old is your son? 2\n",
      "<class 'int'>\n",
      "False\n"
     ]
    }
   ],
   "source": [
    "# equal to                        ==\n",
    "# not equal to                    !=\n",
    "# less than                       <\n",
    "# greater than                    >\n",
    "# greater than and equal to       >=\n",
    "# less than and equal to          <=\n",
    "\n",
    "\n",
    "#  application of conditional logical operators\n",
    "\n",
    "# obaid_age= 2\n",
    "# age_at_school=5\n",
    "# print(obaid_age==age_at_school)\n",
    "\n",
    "age_at_school= 5\n",
    "obaid_age=input(\"how old is your son? \")\n",
    "obaid_age=int(obaid_age)\n",
    "print(type(obaid_age))\n",
    "print(obaid_age==age_at_school)\n",
    "\n",
    "# convert input"
   ]
  },
  {
   "cell_type": "markdown",
   "id": "4b22876a",
   "metadata": {},
   "source": [
    "**08_type_conversion**"
   ]
  },
  {
   "cell_type": "code",
   "execution_count": 7,
   "id": "f3c26ca8",
   "metadata": {},
   "outputs": [
    {
     "name": "stdout",
     "output_type": "stream",
     "text": [
      "what is your name? junaid\n",
      "junaid\n",
      "junaid <class 'str'>\n"
     ]
    }
   ],
   "source": [
    "# x = 10\n",
    "# y = 15.2\n",
    "# z = \"Hey!\"\n",
    "\n",
    "#  implicit typpe conversion\n",
    "# x = 12.5\n",
    "# y = 15\n",
    "# z = \"Hey!\"\n",
    "\n",
    "# print(type(x))\n",
    "# # print(type(y))\n",
    "# # print(type(z))\n",
    "\n",
    "# x=x*y\n",
    "# print(x, \"type of x is:\", type(x))\n",
    "\n",
    "# explicit type coversion\n",
    "# age= input (\"what is your age? \")\n",
    "# print(type(age))                  \n",
    "\n",
    "# age= input(\"what is your age? \")\n",
    "# print(int(age))     \"or\"\n",
    "# print(type(int(age)))\n",
    "\n",
    "# age= input(\"what is your age? \")\n",
    "# print(int(age))     \"or\"\n",
    "# print(age, type(int(age)))\n",
    "\n",
    "# age= input(\"what is your age? \")\n",
    "# print(float(age))     \"or\"\n",
    "# print(age, type(float(age)))\n",
    "\n",
    "name= input(\"what is your name? \")\n",
    "print(str(name))            #\"or\"\n",
    "print(name, type(str(name)))\n",
    "\n",
    "\n",
    "# type_conversion"
   ]
  },
  {
   "cell_type": "markdown",
   "id": "86225a96",
   "metadata": {},
   "source": [
    "**09_if_else_elif**"
   ]
  },
  {
   "cell_type": "code",
   "execution_count": 8,
   "id": "16633e70",
   "metadata": {},
   "outputs": [
    {
     "name": "stdout",
     "output_type": "stream",
     "text": [
      "you must have to takecare of him, he is a baby\n"
     ]
    }
   ],
   "source": [
    "# required_age_at_school=5\n",
    "# obaid_age=2\n",
    "\n",
    "# # i.e,  can obaid go to school\n",
    "\n",
    "# #\"conditional operator must ise ==\" & # *intended code because new \"8\" line in after a short tab\n",
    "# if obaid_age==required_age_at_school:\n",
    "#     print(\"congratulations! obaid can join the school\")\n",
    "# else:\n",
    "#     print(\" obaid cannot go school\")\n",
    "\n",
    "# required_age_at_school=5\n",
    "# obaid_age=5\n",
    "\n",
    "# # i.e,  can obaid go to school\n",
    "\n",
    "# #\"conditional operator must ise ==\" & # *intended code because new \"8\" line in after a short tab\n",
    "# if obaid_age==required_age_at_school:\n",
    "#     print(\"congratulations! obaid can join the school\")\n",
    "# else:\n",
    "#     print(\" obaid cannot go school\")\n",
    "\n",
    "# i,e\n",
    "# required_age_at_school=5\n",
    "# obaid_age=3\n",
    "\n",
    "# if obaid_age==required_age_at_school:\n",
    "#     print(\"congratulations! obaid can join the school\")\n",
    "# elif obaid_age > required_age_at_school:\n",
    "#     print(\" he must have to join high school\")\n",
    "# else:\n",
    "#     print(\" obaid cannot go school\")\n",
    "\n",
    "required_age_at_school=5\n",
    "obaid_age=2\n",
    "\n",
    "if obaid_age==required_age_at_school:\n",
    "    print(\"congratulations! obaid can join the school\")\n",
    "elif obaid_age > required_age_at_school:\n",
    "    print(\" he must have to join high school\")\n",
    "elif obaid_age<=2:\n",
    "    print(\"you must have to takecare of him, he is a baby\")\n",
    "else:\n",
    "    print(\" obaid cannot go school\")\n",
    "\n",
    "# if, elif, else, statement clear."
   ]
  },
  {
   "cell_type": "markdown",
   "id": "d449d84f",
   "metadata": {},
   "source": [
    "**10_functions**"
   ]
  },
  {
   "cell_type": "code",
   "execution_count": 9,
   "id": "211f177d",
   "metadata": {},
   "outputs": [
    {
     "name": "stdout",
     "output_type": "stream",
     "text": [
      "38\n"
     ]
    }
   ],
   "source": [
    "# print(\" we are learnin with Aammar\")\n",
    "# print(\" we are learnin with Aammar\")\n",
    "# print(\" we are learnin with Aammar\")\n",
    "# print(\" we are learnin with Aammar\")\n",
    "\n",
    "# we had a mistake of word \"learning\". we muts have to rewrite all words again..\n",
    "# this is called paranthesis \"()\"\n",
    "# here we have to defining a functions write \"def\"\n",
    "\n",
    "# 1\n",
    "# def print_codanics():\n",
    "#     print(\" we are learnin with Aammar\")\n",
    "#     print(\" we are learnin with Aammar\")\n",
    "#     print(\" we are learnin with Aammar\")\n",
    "# print_codanics()\n",
    "\n",
    "# 2\n",
    "# def print_codanics():\n",
    "#     text= \"we are learning with Aamaar in codanics channel\"\n",
    "#     print(text)\n",
    "#     print(text)\n",
    "#     print(text)\n",
    "\n",
    "# print_codanics()\n",
    "\n",
    "# 3\n",
    "# def print_codanics(text):\n",
    "#     print(text)\n",
    "#     print(text)\n",
    "#     print(text)\n",
    "\n",
    "# print_codanics(\"we are learning python with aammar in codanics youtube channel\")\n",
    "    \n",
    "# def school_calculator(age, text):\n",
    "#     if age==5:\n",
    "#         print(\"obaid can join the school\")\n",
    "#     elif age>5:\n",
    "#         print(\"obaid should go to higher school\")\n",
    "#     else:\n",
    "#         print(\"obaid is still a baby\")\n",
    "\n",
    "# school_calculator(5, \"obaid\")\n",
    "\n",
    "# def school_calculator(age, text):\n",
    "#     if age==5:\n",
    "#         print(\"obaid can join the school\")\n",
    "#     elif age>5:\n",
    "#         print(\"obaid should go to higher school\")\n",
    "#     else:\n",
    "#         print(\"obaid is still a baby\")\n",
    "\n",
    "# school_calculator(2, \"obaid\") #we entered here age 10, 5 , 2 etc\n",
    "\n",
    "# def school_calculator(age):  # we have. removed \"text\"\n",
    "\n",
    "#     if age==5:\n",
    "#         print(\"obaid can join the school\")\n",
    "#     elif age>5:\n",
    "#         print(\"obaid should go to higher school\")\n",
    "#     else:\n",
    "#         print(\"obaid is still a baby\")\n",
    "\n",
    "# school_calculator(2) #we can entered here age 10, 5 , 2 etc\n",
    "\n",
    "# defining a function of future\n",
    "\n",
    "def future_age(age):\n",
    "    new_age=age+20\n",
    "    return new_age\n",
    "    print(new_age)\n",
    "\n",
    "future_predicted_age= future_age(18)\n",
    "print(future_predicted_age)\n",
    "\n",
    "# i understand function really well. thanks!"
   ]
  },
  {
   "cell_type": "markdown",
   "id": "2c4fdb14",
   "metadata": {},
   "source": [
    "**11_loops**"
   ]
  },
  {
   "cell_type": "code",
   "execution_count": 10,
   "id": "8578433e",
   "metadata": {},
   "outputs": [
    {
     "name": "stdout",
     "output_type": "stream",
     "text": [
      "mon\n",
      "tue\n",
      "wed\n",
      "thus\n",
      "sat\n",
      "sun\n"
     ]
    }
   ],
   "source": [
    "# while and for loops\n",
    "# while loops\n",
    "\n",
    "# x=0\n",
    "# while (x<5):\n",
    "#     print(x)\n",
    "#     x=x+1\n",
    "\n",
    "# for loops\n",
    "\n",
    "# for x in range(5,10):\n",
    "#     print(x)\n",
    "\n",
    "# array\n",
    "days = (\"mon\", \"tue\", \"wed\", \"thus\", \"fri\", \"sat\", \"sun\")\n",
    "\n",
    "for d in days:\n",
    "    # if (d==\"fri\"):break\n",
    "    if (d==\"fri\"): continue #it skips d (friday excluded)\n",
    "    print(d)"
   ]
  },
  {
   "cell_type": "markdown",
   "id": "49e3f0a2",
   "metadata": {},
   "source": [
    "**12_import_libraries**"
   ]
  },
  {
   "cell_type": "code",
   "execution_count": 11,
   "id": "71b7622d",
   "metadata": {},
   "outputs": [
    {
     "name": "stdout",
     "output_type": "stream",
     "text": [
      "300\n"
     ]
    }
   ],
   "source": [
    "# if you want to print the value of pi,\" here we can use others function from open source\"\n",
    "\n",
    "# import math\n",
    "# print(\" the value of pi is \", math.pi)\n",
    "\n",
    "# import math\n",
    "# print(\"the value of pi is\" , math.pi)\n",
    "\n",
    "import statistics\n",
    "x=[150, 250, 350, 450]\n",
    "print(statistics.mean(x))\n",
    "\n",
    "\n",
    "# numpy, pandas"
   ]
  },
  {
   "cell_type": "markdown",
   "id": "78081508",
   "metadata": {},
   "source": [
    "**13_troubleshooting**"
   ]
  },
  {
   "cell_type": "code",
   "execution_count": 12,
   "id": "8272c6b6",
   "metadata": {},
   "outputs": [
    {
     "name": "stdout",
     "output_type": "stream",
     "text": [
      "hello, name\n"
     ]
    }
   ],
   "source": [
    "\n",
    "# there types of errors\n",
    "# syntex error (, . \"etc type of error\")\n",
    "# runtime error (mathematical error)\n",
    "# symentic error (our own fault) very difficult to solve.\n",
    " \n",
    "# print ( we are learning with aammar), # syntex error\n",
    "\n",
    "# print(25/0) # runtime error\n",
    "\n",
    "print(\"hello, name\") #syntex error\n",
    "\n",
    "# trouble shooting is easy\n"
   ]
  },
  {
   "cell_type": "code",
   "execution_count": null,
   "id": "ea0b88ca",
   "metadata": {},
   "outputs": [],
   "source": []
  }
 ],
 "metadata": {
  "kernelspec": {
   "display_name": "Python 3 (ipykernel)",
   "language": "python",
   "name": "python3"
  },
  "language_info": {
   "codemirror_mode": {
    "name": "ipython",
    "version": 3
   },
   "file_extension": ".py",
   "mimetype": "text/x-python",
   "name": "python",
   "nbconvert_exporter": "python",
   "pygments_lexer": "ipython3",
   "version": "3.9.7"
  }
 },
 "nbformat": 4,
 "nbformat_minor": 5
}
